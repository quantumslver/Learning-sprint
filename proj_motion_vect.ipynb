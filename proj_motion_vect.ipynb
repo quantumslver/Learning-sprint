{
 "cells": [
  {
   "cell_type": "code",
   "execution_count": null,
   "id": "7d364b30",
   "metadata": {},
   "outputs": [],
   "source": [
    "# Rewriting the code for projectile motion in vectors\n",
    "\n",
    "import math\n",
    "import numpy as np\n",
    "import matplotlib.pyplot as plt\n",
    "\n",
    "# Projectile motion.\n",
    "# y(t) = ut + 1/2 at^2\n",
    "\n",
    "u = float(input(\"enter the value of initial velocity:\"))\n",
    "s = - 9.8\n",
    "\n",
    "t = np.linspace(0, 1, 10) #This is array/vectorization\n",
    "\n",
    "y = u*t + 0.5*s*t**2\n",
    "\n",
    "plt.plot(t,y, 'rx')\n",
    "\n",
    "plt.xlabel(\"Time(s)\")\n",
    "plt.ylabel(\"Height(m)\")\n",
    "plt.xlim(0,2)\n",
    "plt.ylim(0,2)\n",
    "\n",
    "plt.title(\"Projectile Motion.\")\n",
    "\n",
    "plt.grid(True)\n",
    "plt.show()\n",
    "\n",
    "print(y[:5])\n",
    "\n"
   ]
  }
 ],
 "metadata": {
  "kernelspec": {
   "display_name": ".venv",
   "language": "python",
   "name": "python3"
  },
  "language_info": {
   "name": "python",
   "version": "3.12.3"
  }
 },
 "nbformat": 4,
 "nbformat_minor": 5
}
